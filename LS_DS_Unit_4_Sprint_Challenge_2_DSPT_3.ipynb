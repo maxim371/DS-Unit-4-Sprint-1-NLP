{
  "nbformat": 4,
  "nbformat_minor": 0,
  "metadata": {
    "kernelspec": {
      "name": "python3",
      "display_name": "Python 3"
    },
    "nteract": {
      "version": "0.22.4"
    },
    "colab": {
      "name": "LS_DS_Unit_4_Sprint_Challenge_2_DSPT_3.ipynb",
      "provenance": [],
      "collapsed_sections": [],
      "include_colab_link": true
    }
  },
  "cells": [
    {
      "cell_type": "markdown",
      "metadata": {
        "id": "view-in-github",
        "colab_type": "text"
      },
      "source": [
        "<a href=\"https://colab.research.google.com/github/maxim371/DS-Unit-4-Sprint-1-NLP/blob/master/LS_DS_Unit_4_Sprint_Challenge_2_DSPT_3.ipynb\" target=\"_parent\"><img src=\"https://colab.research.google.com/assets/colab-badge.svg\" alt=\"Open In Colab\"/></a>"
      ]
    },
    {
      "cell_type": "markdown",
      "metadata": {
        "id": "GknQ9cfVGNZQ",
        "colab_type": "text"
      },
      "source": [
        "<img align=\"left\" src=\"https://lever-client-logos.s3.amazonaws.com/864372b1-534c-480e-acd5-9711f850815c-1524247202159.png\" width=200>\n",
        "<br></br>\n",
        "<br></br>\n",
        "\n",
        "## *Data Science Unit 4 Sprint 2*\n",
        "\n",
        "# Sprint Challenge - Neural Network Foundations\n",
        "\n",
        "Table of Problems\n",
        "\n",
        "1. [Defining Neural Networks](#Q1)\n",
        "2. [Simple Perceptron](#Q2)\n",
        "    - Perceptron\n",
        "    - Multilayer Perceptron\n",
        "    - Analyze and Compare\n",
        "4. [Keras MMP](#Q3)"
      ]
    },
    {
      "cell_type": "markdown",
      "metadata": {
        "id": "lQb7CKLvGNZS",
        "colab_type": "text"
      },
      "source": [
        "<a id=\"Q1\"></a>\n",
        "## 1. Defining Neural Networks \n",
        "\n",
        "Write *your own* definitions for the following terms:\n",
        "\n",
        "- **Neuron:**\n",
        "- **Input Layer:**\n",
        "- **Hidden Layer:**\n",
        "- **Output Layer:**\n",
        "- **Activation Function:**"
      ]
    },
    {
      "cell_type": "markdown",
      "metadata": {
        "id": "rIWNbuymLMUg",
        "colab_type": "text"
      },
      "source": [
        "###Neuron: also known as nodes receive inputs and pass on their signal to the next layer of nodes if a certain threshold is reached\n",
        "###Input Layer: is what receives input from our dataset\n",
        "###Hidden Layer:These are layers after the input layer. We don't directly interact with them. They cannot be accessed except through the input layer\n",
        "###Output Layer: This is the final layer. This layeer outputs a vector of values that is in a format that is suitable fr the type of problem that we're trying to address.\n",
        "###Activation function: modifies the output value into a format that makes sense for our context eg. Relu, sigmoid\n",
        "\n"
      ]
    },
    {
      "cell_type": "markdown",
      "metadata": {
        "id": "nZrGCLXyGNZT",
        "colab_type": "text"
      },
      "source": [
        "Explain how back propagation works as if you were explaining it to a five year-old. Use your own words, but feel free to reference external materials for this question. "
      ]
    },
    {
      "cell_type": "markdown",
      "metadata": {
        "id": "KbAGmNJAHAT3",
        "colab_type": "text"
      },
      "source": [
        "Backpropagation is an algorithm that is used to update each weights in a network so that they cause the actual output to be closer to the target output, thereby minimizing the error for each output neuron and the network as a whole. Backpropagation uses a technique called gradient descent to minimize the value of the error function."
      ]
    },
    {
      "cell_type": "markdown",
      "metadata": {
        "id": "HTbSJPOiGNZY",
        "colab_type": "text"
      },
      "source": [
        "Remember our Simple Perceptron Class from Monday. In a simple prediction describe the process of making a prediction. How do you go from inputs to predicted output."
      ]
    },
    {
      "cell_type": "markdown",
      "metadata": {
        "id": "sIDnCh7HPKes",
        "colab_type": "text"
      },
      "source": [
        "###Perceptron is just a single node or neuron of a neural network with nothing else. it can take any number of inputs and spit out an output. \n",
        "The process of making a prediction is simple, It takes each of the input values, multiplies each of them by weight, sums all of these products up, and then passes the sum through what is called an 'activation function' the result of which is the final value\n"
      ]
    },
    {
      "cell_type": "markdown",
      "metadata": {
        "id": "4SyOKSOYGNZc",
        "colab_type": "text"
      },
      "source": [
        "<a id=\"Q2\"></a>\n",
        "## 2. Simple Perceptron\n",
        "\n",
        "In this question, you will build two neural networks using Tensorflow Keras. After you build these two models, compare the results of the model."
      ]
    },
    {
      "cell_type": "code",
      "metadata": {
        "id": "m_uyrIk2GNZc",
        "colab_type": "code",
        "colab": {}
      },
      "source": [
        "\"\"\"\n",
        "Our Dataset\n",
        "\"\"\"\n",
        "import numpy as np\n",
        "\n",
        "xx, yy = np.meshgrid(np.linspace(-3, 3, 50),\n",
        "                     np.linspace(-3, 3, 50))\n",
        "rng = np.random.RandomState(0)\n",
        "\n",
        "\"Use this X & y in the following 2 models\"\n",
        "X = rng.randn(300, 2)\n",
        "y = np.array(np.logical_xor(X[:, 0] > 0, X[:, 1] > 0), \n",
        "             dtype=int)\n",
        "# print(X)\n",
        "# print(y)"
      ],
      "execution_count": 0,
      "outputs": []
    },
    {
      "cell_type": "markdown",
      "metadata": {
        "id": "W25xufW8GNZg",
        "colab_type": "text"
      },
      "source": [
        "### Simple Perceptron\n",
        "Construct a simple perceptron using Keras. You model should have 1 dense layer with a single neuron and a sigmoid activation function. Your model should be called `model1` and make sure to save the results of your fit statement to a variable called `h1`. "
      ]
    },
    {
      "cell_type": "code",
      "metadata": {
        "id": "3Kvczs3FGNZg",
        "colab_type": "code",
        "colab": {
          "base_uri": "https://localhost:8080/",
          "height": 697
        },
        "outputId": "c60fc8cc-6ed9-40aa-e0b3-914b9154d4c9"
      },
      "source": [
        "from tensorflow.keras.models import Sequential\n",
        "from tensorflow.keras.layers import Dense\n",
        "\n",
        "model1 = Sequential()\n",
        "model1.add(Dense(1, input_dim=2, activation='relu'))\n",
        "model1.compile(loss='binary_crossentropy', optimizer='adam', metrics=['accuracy'])\n",
        "\n",
        "h1 = model1.fit(X,y,epochs=20)\n"
      ],
      "execution_count": 59,
      "outputs": [
        {
          "output_type": "stream",
          "text": [
            "Epoch 1/20\n",
            "10/10 [==============================] - 0s 1ms/step - loss: 3.4708 - accuracy: 0.6067\n",
            "Epoch 2/20\n",
            "10/10 [==============================] - 0s 1ms/step - loss: 3.5510 - accuracy: 0.6167\n",
            "Epoch 3/20\n",
            "10/10 [==============================] - 0s 1ms/step - loss: 3.5463 - accuracy: 0.6200\n",
            "Epoch 4/20\n",
            "10/10 [==============================] - 0s 1ms/step - loss: 3.2925 - accuracy: 0.6200\n",
            "Epoch 5/20\n",
            "10/10 [==============================] - 0s 1ms/step - loss: 3.5901 - accuracy: 0.6267\n",
            "Epoch 6/20\n",
            "10/10 [==============================] - 0s 1ms/step - loss: 3.2829 - accuracy: 0.6300\n",
            "Epoch 7/20\n",
            "10/10 [==============================] - 0s 2ms/step - loss: 3.6590 - accuracy: 0.6333\n",
            "Epoch 8/20\n",
            "10/10 [==============================] - 0s 1ms/step - loss: 3.2506 - accuracy: 0.6367\n",
            "Epoch 9/20\n",
            "10/10 [==============================] - 0s 1ms/step - loss: 3.2496 - accuracy: 0.6433\n",
            "Epoch 10/20\n",
            "10/10 [==============================] - 0s 1ms/step - loss: 3.4818 - accuracy: 0.6533\n",
            "Epoch 11/20\n",
            "10/10 [==============================] - 0s 1ms/step - loss: 3.6265 - accuracy: 0.6533\n",
            "Epoch 12/20\n",
            "10/10 [==============================] - 0s 1ms/step - loss: 3.3099 - accuracy: 0.6533\n",
            "Epoch 13/20\n",
            "10/10 [==============================] - 0s 1ms/step - loss: 3.3820 - accuracy: 0.6533\n",
            "Epoch 14/20\n",
            "10/10 [==============================] - 0s 1ms/step - loss: 3.6199 - accuracy: 0.6567\n",
            "Epoch 15/20\n",
            "10/10 [==============================] - 0s 1ms/step - loss: 3.2177 - accuracy: 0.6633\n",
            "Epoch 16/20\n",
            "10/10 [==============================] - 0s 1ms/step - loss: 3.4302 - accuracy: 0.6633\n",
            "Epoch 17/20\n",
            "10/10 [==============================] - 0s 1ms/step - loss: 3.5011 - accuracy: 0.6633\n",
            "Epoch 18/20\n",
            "10/10 [==============================] - 0s 1ms/step - loss: 3.3642 - accuracy: 0.6700\n",
            "Epoch 19/20\n",
            "10/10 [==============================] - 0s 1ms/step - loss: 3.1910 - accuracy: 0.6667\n",
            "Epoch 20/20\n",
            "10/10 [==============================] - 0s 2ms/step - loss: 3.3267 - accuracy: 0.6667\n"
          ],
          "name": "stdout"
        }
      ]
    },
    {
      "cell_type": "markdown",
      "metadata": {
        "id": "PuSBMG6QGNZj",
        "colab_type": "text"
      },
      "source": [
        "### Multi-Layer Perceptron\n",
        "Now construct a multi-layer perceptron using Keras. Here are some architecture suggestions: \n",
        "- 2 Hidden Layers\n",
        "- 5-32 Neurons in the Hidden Layers\n",
        "- Your pick of activation function and optimizer\n",
        "- Incorporate the Callback function below into your model\n",
        "\n",
        "Your model should be called `model2` and make sure to save the results of your fit statement to a variable called `h2`. You must also monitor the metric 'accuracy'."
      ]
    },
    {
      "cell_type": "code",
      "metadata": {
        "id": "7t7xfTfSGNZk",
        "colab_type": "code",
        "colab": {}
      },
      "source": [
        "import tensorflow as tf\n",
        "\n",
        "class myCallback(tf.keras.callbacks.Callback): \n",
        "    def on_epoch_end(self, epoch, logs={}): \n",
        "        if(logs.get('accuracy') > .99999):   \n",
        "            self.model.stop_training = True"
      ],
      "execution_count": 0,
      "outputs": []
    },
    {
      "cell_type": "code",
      "metadata": {
        "id": "Pu128Ut1GNZn",
        "colab_type": "code",
        "colab": {
          "base_uri": "https://localhost:8080/",
          "height": 697
        },
        "outputId": "01a8c71f-c3ee-4466-a5c7-317901b4b622"
      },
      "source": [
        "model2 = Sequential()\n",
        "model2.add(Dense(32, input_dim=2, activation='relu'))\n",
        "model2.add(Dense(1, activation='sigmoid'))\n",
        "model2.compile(loss='binary_crossentropy', optimizer='adam', metrics=['accuracy'])\n",
        "\n",
        "h2 = model2.fit(X,y, epochs=20)"
      ],
      "execution_count": 65,
      "outputs": [
        {
          "output_type": "stream",
          "text": [
            "Epoch 1/20\n",
            "10/10 [==============================] - 0s 1ms/step - loss: 0.6840 - accuracy: 0.5067\n",
            "Epoch 2/20\n",
            "10/10 [==============================] - 0s 1ms/step - loss: 0.6703 - accuracy: 0.5800\n",
            "Epoch 3/20\n",
            "10/10 [==============================] - 0s 1ms/step - loss: 0.6548 - accuracy: 0.6433\n",
            "Epoch 4/20\n",
            "10/10 [==============================] - 0s 1ms/step - loss: 0.6450 - accuracy: 0.7067\n",
            "Epoch 5/20\n",
            "10/10 [==============================] - 0s 1ms/step - loss: 0.6331 - accuracy: 0.7633\n",
            "Epoch 6/20\n",
            "10/10 [==============================] - 0s 1ms/step - loss: 0.6199 - accuracy: 0.7767\n",
            "Epoch 7/20\n",
            "10/10 [==============================] - 0s 1ms/step - loss: 0.6111 - accuracy: 0.8167\n",
            "Epoch 8/20\n",
            "10/10 [==============================] - 0s 1ms/step - loss: 0.5977 - accuracy: 0.8367\n",
            "Epoch 9/20\n",
            "10/10 [==============================] - 0s 1ms/step - loss: 0.5896 - accuracy: 0.8500\n",
            "Epoch 10/20\n",
            "10/10 [==============================] - 0s 1ms/step - loss: 0.5754 - accuracy: 0.8733\n",
            "Epoch 11/20\n",
            "10/10 [==============================] - 0s 1ms/step - loss: 0.5639 - accuracy: 0.8767\n",
            "Epoch 12/20\n",
            "10/10 [==============================] - 0s 1ms/step - loss: 0.5517 - accuracy: 0.8933\n",
            "Epoch 13/20\n",
            "10/10 [==============================] - 0s 2ms/step - loss: 0.5476 - accuracy: 0.9000\n",
            "Epoch 14/20\n",
            "10/10 [==============================] - 0s 1ms/step - loss: 0.5348 - accuracy: 0.9133\n",
            "Epoch 15/20\n",
            "10/10 [==============================] - 0s 1ms/step - loss: 0.5279 - accuracy: 0.9267\n",
            "Epoch 16/20\n",
            "10/10 [==============================] - 0s 1ms/step - loss: 0.5151 - accuracy: 0.9267\n",
            "Epoch 17/20\n",
            "10/10 [==============================] - 0s 1ms/step - loss: 0.5041 - accuracy: 0.9300\n",
            "Epoch 18/20\n",
            "10/10 [==============================] - 0s 1ms/step - loss: 0.5011 - accuracy: 0.9333\n",
            "Epoch 19/20\n",
            "10/10 [==============================] - 0s 1ms/step - loss: 0.4895 - accuracy: 0.9300\n",
            "Epoch 20/20\n",
            "10/10 [==============================] - 0s 2ms/step - loss: 0.4813 - accuracy: 0.9300\n"
          ],
          "name": "stdout"
        }
      ]
    },
    {
      "cell_type": "markdown",
      "metadata": {
        "id": "t54EVWb7GNZq",
        "colab_type": "text"
      },
      "source": [
        "### Analyze and Compare\n",
        "\n",
        "**Before you Start**: You will need to install an additional library for this next segment. Install the package `mlxtend` into the environment you are using for the sprint challenge.\n",
        "\n",
        "\n",
        "The cells below generate decision boundary plots of your models (`model1` & `model2`). Review the plots."
      ]
    },
    {
      "cell_type": "code",
      "metadata": {
        "id": "umTehh12GNZr",
        "colab_type": "code",
        "colab": {
          "base_uri": "https://localhost:8080/",
          "height": 444
        },
        "outputId": "86a4276c-d28c-49bf-efca-c13885840e16"
      },
      "source": [
        "# Do Not change anything in this cell\n",
        "\n",
        "import matplotlib.pyplot as plt\n",
        "from mlxtend.plotting import plot_decision_regions\n",
        "\n",
        "h = .02  # step size in the mesh\n",
        "\n",
        "# create a mesh to plot in\n",
        "x_min, x_max = X[:, 0].min() - .2, X[:, 0].max() + .2\n",
        "y_min, y_max = X[:, 1].min() - .2, X[:, 1].max() + .2\n",
        "xx, yy = np.meshgrid(np.arange(x_min, x_max, h),\n",
        "                     np.arange(y_min, y_max, h))\n",
        "\n",
        "fig = plt.figure(figsize=(12,6))\n",
        "\n",
        "\n",
        "for clf, hist, name, grd in zip([model1,model2], [h1, h2],['Perceptron', 'Multi-Layer Perceptron'],[1,2]):\n",
        "\n",
        "    ax = plt.subplot(1,2, grd)\n",
        "    fig = plot_decision_regions(X=X, y=y, clf=clf, legend=2)\n",
        "    title = f\"{name} with {hist.history['accuracy'][-1]:,.2f} Accuracy\"\n",
        "    plt.title(title)\n",
        "\n",
        "plt.show()"
      ],
      "execution_count": 66,
      "outputs": [
        {
          "output_type": "stream",
          "text": [
            "/usr/local/lib/python3.6/dist-packages/mlxtend/plotting/decision_regions.py:244: MatplotlibDeprecationWarning: Passing unsupported keyword arguments to axis() will raise a TypeError in 3.3.\n",
            "  ax.axis(xmin=xx.min(), xmax=xx.max(), y_min=yy.min(), y_max=yy.max())\n"
          ],
          "name": "stderr"
        },
        {
          "output_type": "display_data",
          "data": {
            "image/png": "[encoded data removed]",
            "text/plain": [
              "<Figure size 864x432 with 2 Axes>"
            ]
          },
          "metadata": {
            "tags": [],
            "needs_background": "light"
          }
        }
      ]
    },
    {
      "cell_type": "markdown",
      "metadata": {
        "id": "73yIA2TkGNZu",
        "colab_type": "text"
      },
      "source": [
        "Why does the Perceptron (`model1`) only achieve ~70% accuracy? What is the architectural property of the Multi-Layer Perceptron that allows it more accurately learn the relationship between X and y? \n",
        "\n",
        "Why might this property be useful in more complex data such as images?"
      ]
    },
    {
      "cell_type": "markdown",
      "metadata": {
        "id": "DXrMGT92n0i7",
        "colab_type": "text"
      },
      "source": [
        "###The additional hidden layers and weights makes the multi layer perceptron more robust to solve complex data such as images"
      ]
    },
    {
      "cell_type": "markdown",
      "metadata": {
        "id": "3mkgSPyjGNZx",
        "colab_type": "text"
      },
      "source": [
        "## 3. Keras MMP <a id=\"Q3\"></a>\n",
        "\n",
        "Implement a Multilayer Perceptron architecture of your choosing using the Keras library. Train your model and report its baseline accuracy. Then hyperparameter tune at least two parameters and report your model's accuracy.\n",
        "Use the Heart Disease Dataset (binary classification)\n",
        "Use an appropriate loss function for a binary classification task\n",
        "Use an appropriate activation function on the final layer of your network.\n",
        "Train your model using verbose output for ease of grading.\n",
        "Use GridSearchCV or RandomSearchCV to hyperparameter tune your model. (for at least two hyperparameters)\n",
        "When hyperparameter tuning, show you work by adding code cells for each new experiment.\n",
        "Report the accuracy for each combination of hyperparameters as you test them so that we can easily see which resulted in the highest accuracy.\n",
        "You must hyperparameter tune at least 3 parameters in order to get a 3 on this section."
      ]
    },
    {
      "cell_type": "code",
      "metadata": {
        "inputHidden": false,
        "jupyter": {
          "outputs_hidden": false
        },
        "outputHidden": false,
        "id": "A1NhrvgYGNZy",
        "colab_type": "code",
        "colab": {
          "base_uri": "https://localhost:8080/",
          "height": 221
        },
        "outputId": "6eaee5c2-2196-4712-8f49-9503a9cfc6af"
      },
      "source": [
        "import pandas as pd\n",
        "from sklearn.preprocessing import StandardScaler\n",
        "\n",
        "df = pd.read_csv('https://raw.githubusercontent.com/ryanleeallred/datasets/master/heart.csv')\n",
        "df = df.sample(frac=1)\n",
        "print(df.shape)\n",
        "df.head()"
      ],
      "execution_count": 107,
      "outputs": [
        {
          "output_type": "stream",
          "text": [
            "(303, 14)\n"
          ],
          "name": "stdout"
        },
        {
          "output_type": "execute_result",
          "data": {
            "text/html": [
              "<div>\n",
              "<style scoped>\n",
              "    .dataframe tbody tr th:only-of-type {\n",
              "        vertical-align: middle;\n",
              "    }\n",
              "\n",
              "    .dataframe tbody tr th {\n",
              "        vertical-align: top;\n",
              "    }\n",
              "\n",
              "    .dataframe thead th {\n",
              "        text-align: right;\n",
              "    }\n",
              "</style>\n",
              "<table border=\"1\" class=\"dataframe\">\n",
              "  <thead>\n",
              "    <tr style=\"text-align: right;\">\n",
              "      <th></th>\n",
              "      <th>age</th>\n",
              "      <th>sex</th>\n",
              "      <th>cp</th>\n",
              "      <th>trestbps</th>\n",
              "      <th>chol</th>\n",
              "      <th>fbs</th>\n",
              "      <th>restecg</th>\n",
              "      <th>thalach</th>\n",
              "      <th>exang</th>\n",
              "      <th>oldpeak</th>\n",
              "      <th>slope</th>\n",
              "      <th>ca</th>\n",
              "      <th>thal</th>\n",
              "      <th>target</th>\n",
              "    </tr>\n",
              "  </thead>\n",
              "  <tbody>\n",
              "    <tr>\n",
              "      <th>21</th>\n",
              "      <td>44</td>\n",
              "      <td>1</td>\n",
              "      <td>2</td>\n",
              "      <td>130</td>\n",
              "      <td>233</td>\n",
              "      <td>0</td>\n",
              "      <td>1</td>\n",
              "      <td>179</td>\n",
              "      <td>1</td>\n",
              "      <td>0.4</td>\n",
              "      <td>2</td>\n",
              "      <td>0</td>\n",
              "      <td>2</td>\n",
              "      <td>1</td>\n",
              "    </tr>\n",
              "    <tr>\n",
              "      <th>81</th>\n",
              "      <td>45</td>\n",
              "      <td>1</td>\n",
              "      <td>1</td>\n",
              "      <td>128</td>\n",
              "      <td>308</td>\n",
              "      <td>0</td>\n",
              "      <td>0</td>\n",
              "      <td>170</td>\n",
              "      <td>0</td>\n",
              "      <td>0.0</td>\n",
              "      <td>2</td>\n",
              "      <td>0</td>\n",
              "      <td>2</td>\n",
              "      <td>1</td>\n",
              "    </tr>\n",
              "    <tr>\n",
              "      <th>3</th>\n",
              "      <td>56</td>\n",
              "      <td>1</td>\n",
              "      <td>1</td>\n",
              "      <td>120</td>\n",
              "      <td>236</td>\n",
              "      <td>0</td>\n",
              "      <td>1</td>\n",
              "      <td>178</td>\n",
              "      <td>0</td>\n",
              "      <td>0.8</td>\n",
              "      <td>2</td>\n",
              "      <td>0</td>\n",
              "      <td>2</td>\n",
              "      <td>1</td>\n",
              "    </tr>\n",
              "    <tr>\n",
              "      <th>268</th>\n",
              "      <td>54</td>\n",
              "      <td>1</td>\n",
              "      <td>0</td>\n",
              "      <td>122</td>\n",
              "      <td>286</td>\n",
              "      <td>0</td>\n",
              "      <td>0</td>\n",
              "      <td>116</td>\n",
              "      <td>1</td>\n",
              "      <td>3.2</td>\n",
              "      <td>1</td>\n",
              "      <td>2</td>\n",
              "      <td>2</td>\n",
              "      <td>0</td>\n",
              "    </tr>\n",
              "    <tr>\n",
              "      <th>247</th>\n",
              "      <td>66</td>\n",
              "      <td>1</td>\n",
              "      <td>1</td>\n",
              "      <td>160</td>\n",
              "      <td>246</td>\n",
              "      <td>0</td>\n",
              "      <td>1</td>\n",
              "      <td>120</td>\n",
              "      <td>1</td>\n",
              "      <td>0.0</td>\n",
              "      <td>1</td>\n",
              "      <td>3</td>\n",
              "      <td>1</td>\n",
              "      <td>0</td>\n",
              "    </tr>\n",
              "  </tbody>\n",
              "</table>\n",
              "</div>"
            ],
            "text/plain": [
              "     age  sex  cp  trestbps  chol  fbs  ...  exang  oldpeak  slope  ca  thal  target\n",
              "21    44    1   2       130   233    0  ...      1      0.4      2   0     2       1\n",
              "81    45    1   1       128   308    0  ...      0      0.0      2   0     2       1\n",
              "3     56    1   1       120   236    0  ...      0      0.8      2   0     2       1\n",
              "268   54    1   0       122   286    0  ...      1      3.2      1   2     2       0\n",
              "247   66    1   1       160   246    0  ...      1      0.0      1   3     1       0\n",
              "\n",
              "[5 rows x 14 columns]"
            ]
          },
          "metadata": {
            "tags": []
          },
          "execution_count": 107
        }
      ]
    },
    {
      "cell_type": "code",
      "metadata": {
        "id": "FM2Id2U0GNZ7",
        "colab_type": "code",
        "colab": {
          "base_uri": "https://localhost:8080/",
          "height": 884
        },
        "outputId": "fab7df6f-fd8c-49ac-d233-e13b7b250be5"
      },
      "source": [
        "X = df.drop('target', axis=1)\n",
        "y = df['target']\n",
        "# print(X)\n",
        "# print(y)\n",
        "model = Sequential()\n",
        "model.add(Dense(30, input_dim=13, activation='relu'))\n",
        "model.add(Dense(1, activation='sigmoid'))\n",
        "model.compile(loss='binary_crossentropy', optimizer='adam', metrics=['accuracy'])\n",
        "\n",
        "model.fit(X,y, epochs=25)"
      ],
      "execution_count": 108,
      "outputs": [
        {
          "output_type": "stream",
          "text": [
            "Epoch 1/25\n",
            "10/10 [==============================] - 0s 2ms/step - loss: 4.3517 - accuracy: 0.5776\n",
            "Epoch 2/25\n",
            "10/10 [==============================] - 0s 2ms/step - loss: 1.8864 - accuracy: 0.6106\n",
            "Epoch 3/25\n",
            "10/10 [==============================] - 0s 1ms/step - loss: 1.4231 - accuracy: 0.6700\n",
            "Epoch 4/25\n",
            "10/10 [==============================] - 0s 1ms/step - loss: 1.2654 - accuracy: 0.6766\n",
            "Epoch 5/25\n",
            "10/10 [==============================] - 0s 1ms/step - loss: 1.2306 - accuracy: 0.6898\n",
            "Epoch 6/25\n",
            "10/10 [==============================] - 0s 1ms/step - loss: 1.1534 - accuracy: 0.6931\n",
            "Epoch 7/25\n",
            "10/10 [==============================] - 0s 1ms/step - loss: 1.1298 - accuracy: 0.6766\n",
            "Epoch 8/25\n",
            "10/10 [==============================] - 0s 2ms/step - loss: 1.1235 - accuracy: 0.6865\n",
            "Epoch 9/25\n",
            "10/10 [==============================] - 0s 1ms/step - loss: 1.1186 - accuracy: 0.6766\n",
            "Epoch 10/25\n",
            "10/10 [==============================] - 0s 1ms/step - loss: 1.0345 - accuracy: 0.6898\n",
            "Epoch 11/25\n",
            "10/10 [==============================] - 0s 1ms/step - loss: 1.0536 - accuracy: 0.6865\n",
            "Epoch 12/25\n",
            "10/10 [==============================] - 0s 1ms/step - loss: 0.9711 - accuracy: 0.6898\n",
            "Epoch 13/25\n",
            "10/10 [==============================] - 0s 2ms/step - loss: 0.9214 - accuracy: 0.6865\n",
            "Epoch 14/25\n",
            "10/10 [==============================] - 0s 1ms/step - loss: 0.9012 - accuracy: 0.6865\n",
            "Epoch 15/25\n",
            "10/10 [==============================] - 0s 1ms/step - loss: 0.9456 - accuracy: 0.6832\n",
            "Epoch 16/25\n",
            "10/10 [==============================] - 0s 1ms/step - loss: 0.8235 - accuracy: 0.7096\n",
            "Epoch 17/25\n",
            "10/10 [==============================] - 0s 1ms/step - loss: 0.8207 - accuracy: 0.6898\n",
            "Epoch 18/25\n",
            "10/10 [==============================] - 0s 1ms/step - loss: 0.8064 - accuracy: 0.6931\n",
            "Epoch 19/25\n",
            "10/10 [==============================] - 0s 1ms/step - loss: 0.7358 - accuracy: 0.7063\n",
            "Epoch 20/25\n",
            "10/10 [==============================] - 0s 1ms/step - loss: 0.7686 - accuracy: 0.6964\n",
            "Epoch 21/25\n",
            "10/10 [==============================] - 0s 2ms/step - loss: 0.7039 - accuracy: 0.7228\n",
            "Epoch 22/25\n",
            "10/10 [==============================] - 0s 2ms/step - loss: 0.6903 - accuracy: 0.7195\n",
            "Epoch 23/25\n",
            "10/10 [==============================] - 0s 2ms/step - loss: 0.6601 - accuracy: 0.7096\n",
            "Epoch 24/25\n",
            "10/10 [==============================] - 0s 1ms/step - loss: 0.6391 - accuracy: 0.7162\n",
            "Epoch 25/25\n",
            "10/10 [==============================] - 0s 1ms/step - loss: 0.5992 - accuracy: 0.7327\n"
          ],
          "name": "stdout"
        },
        {
          "output_type": "execute_result",
          "data": {
            "text/plain": [
              "<tensorflow.python.keras.callbacks.History at 0x7f5156c2ca90>"
            ]
          },
          "metadata": {
            "tags": []
          },
          "execution_count": 108
        }
      ]
    },
    {
      "cell_type": "markdown",
      "metadata": {
        "id": "SEVcFPVltwMe",
        "colab_type": "text"
      },
      "source": [
        "##Hyperparameter Tuning"
      ]
    },
    {
      "cell_type": "code",
      "metadata": {
        "id": "aefuEgIMwIXI",
        "colab_type": "code",
        "colab": {}
      },
      "source": [
        "from tensorflow.keras.wrappers.scikit_learn import KerasClassifier\n",
        "\n",
        "def create_model():\n",
        "    # create model\n",
        "    model = Sequential()\n",
        "    model.add(Dense(30, input_dim=13, activation='relu'))\n",
        "    model.add(Dense(1, activation='sigmoid'))\n",
        "    # Compile model\n",
        "    model.compile(loss='binary_crossentropy', optimizer='adam', metrics=['accuracy'])\n",
        "    return model\n",
        "\n",
        "# create model\n",
        "model = KerasClassifier(build_fn=create_model, verbose=0)"
      ],
      "execution_count": 0,
      "outputs": []
    },
    {
      "cell_type": "code",
      "metadata": {
        "id": "K5-nuTbLqpJ9",
        "colab_type": "code",
        "colab": {}
      },
      "source": [
        "X = df.drop('target', axis=1)\n",
        "y = df['target']\n",
        "# define the grid search parameters\n",
        "param_grid = {'batch_size': [10, 20, 40, 60],\n",
        "              'epochs': [25]}"
      ],
      "execution_count": 0,
      "outputs": []
    },
    {
      "cell_type": "code",
      "metadata": {
        "id": "H95mI71tqwBD",
        "colab_type": "code",
        "colab": {
          "base_uri": "https://localhost:8080/",
          "height": 34
        },
        "outputId": "6c7df18e-1ae3-4a6f-ca95-14eb5bee7d3b"
      },
      "source": [
        "# Create Grid Search\n",
        "from sklearn.model_selection import GridSearchCV\n",
        "grid = GridSearchCV(estimator=model, param_grid=param_grid, n_jobs=1)\n",
        "grid.fit(X, y)\n",
        "grid.score(X,y)"
      ],
      "execution_count": 116,
      "outputs": [
        {
          "output_type": "execute_result",
          "data": {
            "text/plain": [
              "0.7623762488365173"
            ]
          },
          "metadata": {
            "tags": []
          },
          "execution_count": 116
        }
      ]
    },
    {
      "cell_type": "markdown",
      "metadata": {
        "id": "bso9FuNxw2_R",
        "colab_type": "text"
      },
      "source": [
        "###Another Hyperparameter"
      ]
    },
    {
      "cell_type": "code",
      "metadata": {
        "id": "tSjGTgbnw16v",
        "colab_type": "code",
        "colab": {}
      },
      "source": [
        "X = df.drop('target', axis=1)\n",
        "y = df['target']\n",
        "# define the grid search parameters\n",
        "param_grid = {'batch_size': [10, 20, 40, 50, 70, 100],\n",
        "              'epochs': [30]}"
      ],
      "execution_count": 0,
      "outputs": []
    },
    {
      "cell_type": "code",
      "metadata": {
        "id": "hotjkbgBxKXh",
        "colab_type": "code",
        "colab": {
          "base_uri": "https://localhost:8080/",
          "height": 34
        },
        "outputId": "74611a22-fb3d-4eb7-c509-112d36f2c188"
      },
      "source": [
        "# Create Grid Search\n",
        "from sklearn.model_selection import GridSearchCV\n",
        "grid = GridSearchCV(estimator=model, param_grid=param_grid, n_jobs=1)\n",
        "grid.fit(X, y)\n",
        "grid.score(X,y)"
      ],
      "execution_count": 119,
      "outputs": [
        {
          "output_type": "execute_result",
          "data": {
            "text/plain": [
              "0.8151814937591553"
            ]
          },
          "metadata": {
            "tags": []
          },
          "execution_count": 119
        }
      ]
    }
  ]
}